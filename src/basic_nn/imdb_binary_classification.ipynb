{
 "cells": [
  {
   "cell_type": "code",
   "execution_count": 64,
   "id": "b3799e78-b85c-4d06-957d-a46c767cd65c",
   "metadata": {},
   "outputs": [],
   "source": [
    "from keras.datasets import imdb"
   ]
  },
  {
   "cell_type": "code",
   "execution_count": 65,
   "id": "567b48a4-9b70-4bbb-8832-4292fbcefa8c",
   "metadata": {},
   "outputs": [],
   "source": [
    "(train_x, train_y), (test_x, test_y) = imdb.load_data(num_words=10000)"
   ]
  },
  {
   "cell_type": "code",
   "execution_count": 66,
   "id": "a1e1851e-c512-4ff5-9a74-72f978970253",
   "metadata": {},
   "outputs": [],
   "source": [
    "# Train x and test x are integers, which are indices into a word dictionary"
   ]
  },
  {
   "cell_type": "code",
   "execution_count": 67,
   "id": "318c0697-63c3-4e7a-9730-c09c142a132e",
   "metadata": {},
   "outputs": [
    {
     "name": "stdout",
     "output_type": "stream",
     "text": [
      "train x shape :  (25000,)\n",
      "train y shape :  (25000,)\n",
      "test x shape :  (25000,)\n",
      "test y shape :  (25000,)\n"
     ]
    },
    {
     "data": {
      "text/plain": [
       "array([1, 0, 0, 1, 0, 0, 1, 0, 1, 0], dtype=int64)"
      ]
     },
     "execution_count": 67,
     "metadata": {},
     "output_type": "execute_result"
    }
   ],
   "source": [
    "print(\"train x shape : \", train_x.shape)\n",
    "print(\"train y shape : \", train_y.shape)\n",
    "print(\"test x shape : \", test_x.shape)\n",
    "print(\"test y shape : \", test_y.shape)\n",
    "\n",
    "train_x[0]\n",
    "\n",
    "train_y[0:10]"
   ]
  },
  {
   "cell_type": "code",
   "execution_count": 68,
   "id": "e4e6cfb1-ea35-4d2b-bc33-aac332164be7",
   "metadata": {},
   "outputs": [
    {
     "name": "stdout",
     "output_type": "stream",
     "text": [
      "the\n",
      "wonder\n",
      "own\n",
      "as\n",
      "by\n",
      "is\n",
      "sequence\n",
      "i\n",
      "i\n",
      "and\n",
      "and\n",
      "to\n",
      "of\n",
      "hollywood\n",
      "br\n",
      "of\n",
      "down\n",
      "shouting\n",
      "getting\n",
      "boring\n",
      "of\n",
      "ever\n",
      "it\n",
      "sadly\n",
      "sadly\n",
      "sadly\n",
      "i\n",
      "i\n",
      "was\n",
      "then\n",
      "does\n",
      "don't\n",
      "close\n",
      "faint\n",
      "after\n",
      "one\n",
      "carry\n",
      "as\n",
      "by\n",
      "are\n",
      "be\n",
      "favourites\n",
      "all\n",
      "family\n",
      "turn\n",
      "in\n",
      "does\n",
      "as\n",
      "three\n",
      "part\n",
      "in\n",
      "another\n",
      "some\n",
      "to\n",
      "be\n",
      "probably\n",
      "with\n",
      "world\n",
      "and\n",
      "her\n",
      "an\n",
      "have\n",
      "faint\n",
      "beginning\n",
      "own\n",
      "as\n",
      "is\n",
      "sequence\n"
     ]
    }
   ],
   "source": [
    "# Getting a word from index.\n",
    "\n",
    "# Mapping of word to index.\n",
    "word_to_index_map = imdb.get_word_index()\n",
    "# i.e to map integer to word.\n",
    "index_to_word_map = dict([(value, key) for (key, value) in word_to_index_map.items()])\n",
    "\n",
    "for i in range(len(test_x[0])):\n",
    "    print(index_to_word_map[test_x[0][i]])"
   ]
  },
  {
   "cell_type": "code",
   "execution_count": 69,
   "id": "a0063dbf-3ca9-439f-92e0-70b7de8e1e78",
   "metadata": {},
   "outputs": [],
   "source": [
    "# Converting the list of indices into tensors to feed the NN\n",
    "\n",
    "# Also ensure all lists are first of same dimension / length (10,000 here).\n",
    "# Also perform one hot encoding, so in the vector of dimension 10,000,\n",
    "# if the vector originally had 0, 1, 2, 3, then index 0-3 will have 1 and everything else \n",
    "# will have zeroes.\n",
    "import numpy as np\n",
    "\n",
    "def vectorize(seq):\n",
    "    # Shape of results is (len(Sequence), 10_000)\n",
    "    results = np.zeros((len(seq), 10_000))\n",
    "    for i, s in enumerate(seq):\n",
    "        results[i, s] = 1\n",
    "    \n",
    "    return results\n",
    "\n",
    "train_x = vectorize(train_x)\n",
    "test_x = vectorize(test_x)"
   ]
  },
  {
   "cell_type": "code",
   "execution_count": 70,
   "id": "31f4eb58-770d-41e1-9573-46338cabea21",
   "metadata": {},
   "outputs": [
    {
     "name": "stdout",
     "output_type": "stream",
     "text": [
      "(25000, 10000)\n"
     ]
    },
    {
     "data": {
      "text/plain": [
       "array([[0., 1., 1., ..., 0., 0., 0.],\n",
       "       [0., 1., 1., ..., 0., 0., 0.],\n",
       "       [0., 1., 1., ..., 0., 0., 0.],\n",
       "       ...,\n",
       "       [0., 1., 1., ..., 0., 0., 0.],\n",
       "       [0., 1., 1., ..., 0., 0., 0.],\n",
       "       [0., 1., 1., ..., 0., 0., 0.]])"
      ]
     },
     "execution_count": 70,
     "metadata": {},
     "output_type": "execute_result"
    }
   ],
   "source": [
    "print(train_x.shape)\n",
    "\n",
    "train_x"
   ]
  },
  {
   "cell_type": "code",
   "execution_count": 71,
   "id": "31e92464-222b-4b19-a9bc-dc2d19cc3cc1",
   "metadata": {},
   "outputs": [],
   "source": [
    "# Vectorize the y's as well\n",
    "\n",
    "train_y = np.asarray(train_y).astype('float32')\n",
    "test_y = np.asarray(test_y).astype('float32')"
   ]
  },
  {
   "cell_type": "code",
   "execution_count": 72,
   "id": "7cf427b7-79ad-4ad1-8bf6-c98b4cfae880",
   "metadata": {},
   "outputs": [],
   "source": [
    "# Build the model\n",
    "\n",
    "from keras import models\n",
    "from keras import layers\n",
    "\n",
    "model = models.Sequential()\n",
    "model.add(layers.Dense(16, activation='relu', input_shape=(10_000, )))\n",
    "model.add(layers.Dense(16, activation='relu'))\n",
    "model.add(layers.Dense(1, activation='sigmoid'))"
   ]
  },
  {
   "cell_type": "code",
   "execution_count": 73,
   "id": "b58082b8-1b6a-4d75-ae54-defccadc1831",
   "metadata": {},
   "outputs": [],
   "source": [
    "model.compile(optimizer='rmsprop', loss='binary_crossentropy', metrics=['accuracy'])"
   ]
  },
  {
   "cell_type": "code",
   "execution_count": 74,
   "id": "7d88be39-9263-4944-8293-3a16fca468a8",
   "metadata": {},
   "outputs": [],
   "source": [
    "val_x = train_x[:10_000]\n",
    "partial_train_x = train_x[10_000:]\n",
    "\n",
    "val_y = train_y[:10_000]\n",
    "partial_train_y = train_y[10_000:]"
   ]
  },
  {
   "cell_type": "code",
   "execution_count": 75,
   "id": "15598519-d9eb-4699-b717-db6f48d00003",
   "metadata": {},
   "outputs": [
    {
     "name": "stdout",
     "output_type": "stream",
     "text": [
      "Epoch 1/20\n",
      "30/30 [==============================] - 5s 138ms/step - loss: 0.5545 - accuracy: 0.7675 - val_loss: 0.4265 - val_accuracy: 0.8600\n",
      "Epoch 2/20\n",
      "30/30 [==============================] - 1s 22ms/step - loss: 0.3508 - accuracy: 0.8873 - val_loss: 0.3303 - val_accuracy: 0.8810\n",
      "Epoch 3/20\n",
      "30/30 [==============================] - 1s 31ms/step - loss: 0.2607 - accuracy: 0.9151 - val_loss: 0.2931 - val_accuracy: 0.8895\n",
      "Epoch 4/20\n",
      "30/30 [==============================] - 1s 33ms/step - loss: 0.2073 - accuracy: 0.9329 - val_loss: 0.2904 - val_accuracy: 0.8826\n",
      "Epoch 5/20\n",
      "30/30 [==============================] - 1s 30ms/step - loss: 0.1762 - accuracy: 0.9417 - val_loss: 0.2750 - val_accuracy: 0.8883\n",
      "Epoch 6/20\n",
      "30/30 [==============================] - 1s 29ms/step - loss: 0.1495 - accuracy: 0.9517 - val_loss: 0.2806 - val_accuracy: 0.8862\n",
      "Epoch 7/20\n",
      "30/30 [==============================] - 1s 27ms/step - loss: 0.1279 - accuracy: 0.9601 - val_loss: 0.2947 - val_accuracy: 0.8814\n",
      "Epoch 8/20\n",
      "30/30 [==============================] - 1s 27ms/step - loss: 0.1118 - accuracy: 0.9659 - val_loss: 0.3036 - val_accuracy: 0.8845\n",
      "Epoch 9/20\n",
      "30/30 [==============================] - 1s 30ms/step - loss: 0.0974 - accuracy: 0.9709 - val_loss: 0.3243 - val_accuracy: 0.8840\n",
      "Epoch 10/20\n",
      "30/30 [==============================] - 1s 31ms/step - loss: 0.0839 - accuracy: 0.9760 - val_loss: 0.3335 - val_accuracy: 0.8772\n",
      "Epoch 11/20\n",
      "30/30 [==============================] - 1s 30ms/step - loss: 0.0743 - accuracy: 0.9808 - val_loss: 0.3467 - val_accuracy: 0.8793\n",
      "Epoch 12/20\n",
      "30/30 [==============================] - 1s 27ms/step - loss: 0.0639 - accuracy: 0.9847 - val_loss: 0.3668 - val_accuracy: 0.8769\n",
      "Epoch 13/20\n",
      "30/30 [==============================] - 1s 26ms/step - loss: 0.0537 - accuracy: 0.9877 - val_loss: 0.3917 - val_accuracy: 0.8788\n",
      "Epoch 14/20\n",
      "30/30 [==============================] - 1s 30ms/step - loss: 0.0491 - accuracy: 0.9889 - val_loss: 0.4082 - val_accuracy: 0.8712\n",
      "Epoch 15/20\n",
      "30/30 [==============================] - 1s 33ms/step - loss: 0.0383 - accuracy: 0.9929 - val_loss: 0.4448 - val_accuracy: 0.8759\n",
      "Epoch 16/20\n",
      "30/30 [==============================] - 1s 29ms/step - loss: 0.0343 - accuracy: 0.9935 - val_loss: 0.4516 - val_accuracy: 0.8748\n",
      "Epoch 17/20\n",
      "30/30 [==============================] - 1s 30ms/step - loss: 0.0284 - accuracy: 0.9946 - val_loss: 0.4731 - val_accuracy: 0.8720\n",
      "Epoch 18/20\n",
      "30/30 [==============================] - 1s 29ms/step - loss: 0.0278 - accuracy: 0.9937 - val_loss: 0.4976 - val_accuracy: 0.8712\n",
      "Epoch 19/20\n",
      "30/30 [==============================] - 1s 30ms/step - loss: 0.0181 - accuracy: 0.9979 - val_loss: 0.5641 - val_accuracy: 0.8582\n",
      "Epoch 20/20\n",
      "30/30 [==============================] - 1s 26ms/step - loss: 0.0146 - accuracy: 0.9991 - val_loss: 0.5597 - val_accuracy: 0.8709\n"
     ]
    }
   ],
   "source": [
    "history = model.fit(partial_train_x, partial_train_y, epochs=20, batch_size=512, validation_data=(val_x, val_y))"
   ]
  },
  {
   "cell_type": "code",
   "execution_count": 76,
   "id": "4d6c9c15-530d-4333-b97c-b55169e12492",
   "metadata": {},
   "outputs": [
    {
     "data": {
      "text/plain": [
       "dict_keys(['loss', 'accuracy', 'val_loss', 'val_accuracy'])"
      ]
     },
     "execution_count": 76,
     "metadata": {},
     "output_type": "execute_result"
    }
   ],
   "source": [
    "history.history.keys()"
   ]
  },
  {
   "cell_type": "code",
   "execution_count": 77,
   "id": "97d66886-9540-46ea-94af-0c58905ad441",
   "metadata": {},
   "outputs": [
    {
     "data": {
      "image/png": "[encoded data removed]",
      "text/plain": [
       "<Figure size 640x480 with 1 Axes>"
      ]
     },
     "metadata": {},
     "output_type": "display_data"
    }
   ],
   "source": [
    "# Visualization of results\n",
    "\n",
    "import matplotlib.pyplot as plt\n",
    "\n",
    "history_dict = history.history\n",
    "loss_values = history_dict['loss']\n",
    "val_loss_values = history_dict['val_loss']\n",
    "epochs = range(20)\n",
    "\n",
    "plt.plot(epochs, loss_values, 'bo', label='Training loss')\n",
    "plt.plot(epochs, val_loss_values, 'b', label='Validation loss')\n",
    "plt.title('Training and validation loss')\n",
    "plt.xlabel('Epochs')\n",
    "plt.ylabel('Loss')\n",
    "plt.legend()\n",
    "plt.show()"
   ]
  },
  {
   "cell_type": "code",
   "execution_count": 79,
   "id": "3844d00d-2e19-473e-a898-846b9a19ba71",
   "metadata": {},
   "outputs": [
    {
     "data": {
      "image/png": "[encoded data removed]",
      "text/plain": [
       "<Figure size 640x480 with 1 Axes>"
      ]
     },
     "metadata": {},
     "output_type": "display_data"
    }
   ],
   "source": [
    "plt.clf()\n",
    "acc_values = history_dict['accuracy']\n",
    "val_acc_values = history_dict['val_accuracy']\n",
    "plt.plot(epochs, acc_values, 'bo', label='Training acc')\n",
    "plt.plot(epochs, val_acc_values, 'b', label='Validation acc')\n",
    "plt.title('Training and validation accuracy')\n",
    "plt.xlabel('Epochs')\n",
    "plt.ylabel('Loss')\n",
    "plt.legend()\n",
    "plt.show()"
   ]
  }
 ],
 "metadata": {
  "kernelspec": {
   "display_name": "Python 3 (ipykernel)",
   "language": "python",
   "name": "python3"
  },
  "language_info": {
   "codemirror_mode": {
    "name": "ipython",
    "version": 3
   },
   "file_extension": ".py",
   "mimetype": "text/x-python",
   "name": "python",
   "nbconvert_exporter": "python",
   "pygments_lexer": "ipython3",
   "version": "3.11.4"
  }
 },
 "nbformat": 4,
 "nbformat_minor": 5
}
