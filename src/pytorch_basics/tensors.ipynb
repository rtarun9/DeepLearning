{
 "cells": [
  {
   "cell_type": "code",
   "execution_count": 2,
   "metadata": {},
   "outputs": [
    {
     "name": "stdout",
     "output_type": "stream",
     "text": [
      "tensor([[0.0890, 0.9760, 0.5566],\n",
      "        [0.8060, 0.9675, 0.2533],\n",
      "        [0.1089, 0.6627, 0.9798],\n",
      "        [0.9724, 0.0921, 0.0767],\n",
      "        [0.3389, 0.9685, 0.7047]])\n"
     ]
    }
   ],
   "source": [
    "import torch\n",
    "x = torch.rand(5, 3)\n",
    "print(x)"
   ]
  },
  {
   "cell_type": "code",
   "execution_count": 3,
   "metadata": {},
   "outputs": [
    {
     "data": {
      "text/plain": [
       "True"
      ]
     },
     "execution_count": 3,
     "metadata": {},
     "output_type": "execute_result"
    }
   ],
   "source": [
    "import torch\n",
    "torch.cuda.is_available()"
   ]
  },
  {
   "cell_type": "code",
   "execution_count": 4,
   "metadata": {},
   "outputs": [],
   "source": [
    "import torch\n",
    "import numpy as np"
   ]
  },
  {
   "cell_type": "code",
   "execution_count": 5,
   "metadata": {},
   "outputs": [],
   "source": [
    "data = [[1, 2], [3, 4]]\n",
    "x_data  = torch.tensor(data)\n",
    "x_np = torch.tensor(np.array(data))"
   ]
  },
  {
   "cell_type": "code",
   "execution_count": 6,
   "metadata": {},
   "outputs": [
    {
     "name": "stdout",
     "output_type": "stream",
     "text": [
      "tensor([[1, 1],\n",
      "        [1, 1]])\n"
     ]
    }
   ],
   "source": [
    "ones = torch.ones_like(x_data)\n",
    "print(ones)"
   ]
  },
  {
   "cell_type": "code",
   "execution_count": 8,
   "metadata": {},
   "outputs": [
    {
     "name": "stdout",
     "output_type": "stream",
     "text": [
      "torch.Size([2, 2]) torch.int64 cpu\n",
      "cuda:0\n"
     ]
    }
   ],
   "source": [
    "print(ones.shape, ones.dtype, ones.device)\n",
    "ones = ones.to(\"cuda\")\n",
    "print(ones.device)"
   ]
  },
  {
   "cell_type": "code",
   "execution_count": 12,
   "metadata": {},
   "outputs": [
    {
     "name": "stdout",
     "output_type": "stream",
     "text": [
      "torch.Size([4, 2])\n"
     ]
    }
   ],
   "source": [
    "a = torch.zeros((2,2))\n",
    "b = torch.ones((2,2))\n",
    "c = torch.cat([a,b],dim=0)\n",
    "print(c.shape)"
   ]
  },
  {
   "cell_type": "code",
   "execution_count": 13,
   "metadata": {},
   "outputs": [
    {
     "name": "stdout",
     "output_type": "stream",
     "text": [
      "torch.Size([2, 4])\n"
     ]
    }
   ],
   "source": [
    "a = torch.zeros((2,2))\n",
    "b = torch.ones((2,2))\n",
    "c = torch.cat([a,b],dim=1)\n",
    "print(c.shape)"
   ]
  },
  {
   "cell_type": "code",
   "execution_count": 21,
   "metadata": {},
   "outputs": [
    {
     "name": "stdout",
     "output_type": "stream",
     "text": [
      "tensor([[0.4806, 0.1873, 0.7259],\n",
      "        [0.9649, 0.3019, 0.1389],\n",
      "        [0.5287, 0.9692, 0.7695]])\n",
      "tensor([[1.9742, 1.4583, 1.6343],\n",
      "        [1.9742, 1.4583, 1.6343],\n",
      "        [1.9742, 1.4583, 1.6343]])\n",
      "tensor(15.2005)\n",
      "[[1.9741615 1.4583478 1.6343124]\n",
      " [1.9741615 1.4583478 1.6343124]\n",
      " [1.9741615 1.4583478 1.6343124]]\n",
      "tensor([[1.9742, 1.4583, 1.6343],\n",
      "        [1.9742, 1.4583, 1.6343],\n",
      "        [1.9742, 1.4583, 1.6343]])\n"
     ]
    }
   ],
   "source": [
    "# Basic mathematical operations on tensors.\n",
    "a = torch.ones((3,3))\n",
    "b = torch.rand((3,3))\n",
    "\n",
    "c = torch.mul(a, b)\n",
    "print(c)\n",
    "\n",
    "d  = torch.matmul(a, b)\n",
    "print(d)\n",
    "\n",
    "e  = d.sum()\n",
    "print(e)\n",
    "\n",
    "f = d.numpy()\n",
    "print(f)\n",
    "\n",
    "g = torch.from_numpy(f)\n",
    "print(g)"
   ]
  }
 ],
 "metadata": {
  "kernelspec": {
   "display_name": "denoising-conda-env",
   "language": "python",
   "name": "python3"
  },
  "language_info": {
   "codemirror_mode": {
    "name": "ipython",
    "version": 3
   },
   "file_extension": ".py",
   "mimetype": "text/x-python",
   "name": "python",
   "nbconvert_exporter": "python",
   "pygments_lexer": "ipython3",
   "version": "3.9.18"
  }
 },
 "nbformat": 4,
 "nbformat_minor": 2
}
