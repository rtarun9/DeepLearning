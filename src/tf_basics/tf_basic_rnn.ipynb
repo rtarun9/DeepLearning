{
  "nbformat": 4,
  "nbformat_minor": 0,
  "metadata": {
    "colab": {
      "provenance": [],
      "gpuType": "T4"
    },
    "kernelspec": {
      "name": "python3",
      "display_name": "Python 3"
    },
    "language_info": {
      "name": "python"
    },
    "accelerator": "GPU"
  },
  "cells": [
    {
      "cell_type": "code",
      "execution_count": 1,
      "metadata": {
        "id": "We3sUvucVMW2"
      },
      "outputs": [],
      "source": [
        "import matplotlib.pyplot as plt\n",
        "import tensorflow as tf\n",
        "import numpy as np\n",
        "from sklearn.model_selection import train_test_split"
      ]
    },
    {
      "cell_type": "code",
      "source": [
        "(x_train, y_train), (x_test, y_test) = tf.keras.datasets.mnist.load_data()\n",
        "x_train = x_train.astype(np.float32) / 255.0\n",
        "x_test = x_test.astype(np.float32) / 255.0\n",
        "\n",
        "x_train, x_val, y_train, y_val = train_test_split(x_train, y_train, train_size=0.25, random_state=42)"
      ],
      "metadata": {
        "colab": {
          "base_uri": "https://localhost:8080/"
        },
        "id": "TXHs7wpwV7S4",
        "outputId": "2803e54e-d8e9-4b2f-b332-c1f45d2b9176"
      },
      "execution_count": 2,
      "outputs": [
        {
          "output_type": "stream",
          "name": "stdout",
          "text": [
            "Downloading data from https://storage.googleapis.com/tensorflow/tf-keras-datasets/mnist.npz\n",
            "11490434/11490434 [==============================] - 0s 0us/step\n"
          ]
        }
      ]
    },
    {
      "cell_type": "code",
      "source": [
        "print(x_train.shape, x_test.shape, x_val.shape)\n",
        "print(y_train.shape, y_test.shape, y_val.shape)"
      ],
      "metadata": {
        "colab": {
          "base_uri": "https://localhost:8080/"
        },
        "id": "_5k2yL2GWP89",
        "outputId": "e73d1bec-2d02-4085-93e7-20ab71dbad4a"
      },
      "execution_count": 3,
      "outputs": [
        {
          "output_type": "stream",
          "name": "stdout",
          "text": [
            "(15000, 28, 28) (10000, 28, 28) (45000, 28, 28)\n",
            "(15000,) (10000,) (45000,)\n"
          ]
        }
      ]
    },
    {
      "cell_type": "code",
      "source": [
        "plt.imshow(x_train[0])"
      ],
      "metadata": {
        "colab": {
          "base_uri": "https://localhost:8080/",
          "height": 447
        },
        "id": "R4VCiKZLWXPJ",
        "outputId": "f0d5aa15-0401-4a77-d0e0-b04209a5d805"
      },
      "execution_count": 4,
      "outputs": [
        {
          "output_type": "execute_result",
          "data": {
            "text/plain": [
              "<matplotlib.image.AxesImage at 0x7d213d9fa800>"
            ]
          },
          "metadata": {},
          "execution_count": 4
        },
        {
          "output_type": "display_data",
          "data": {
            "text/plain": [
              "<Figure size 640x480 with 1 Axes>"
            ],
            "image/png": "[encoded data removed]"
          },
          "metadata": {}
        }
      ]
    },
    {
      "cell_type": "code",
      "source": [
        "tf.keras.layers.SparseCategoricalCrossentropy?"
      ],
      "metadata": {
        "id": "eGHeub-DYBXk"
      },
      "execution_count": 5,
      "outputs": []
    },
    {
      "cell_type": "code",
      "source": [
        "# Using LSTM\n",
        "model = tf.keras.Sequential([\n",
        "    tf.keras.Input(shape=(28,28)),\n",
        "    tf.keras.layers.LSTM(256, return_sequences=True),\n",
        "    tf.keras.layers.Dropout(0.2),\n",
        "    tf.keras.layers.LSTM(256, return_sequences=False),\n",
        "    tf.keras.layers.Dropout(0.2),\n",
        "    tf.keras.layers.Dense(32, activation='relu'),\n",
        "    tf.keras.layers.Dropout(0.2),\n",
        "    tf.keras.layers.Dense(10, activation='softmax')\n",
        "])\n",
        "\n",
        "model.summary()\n",
        "\n",
        "model.compile(loss=tf.keras.losses.SparseCategoricalCrossentropy(from_logits=False), optimizer=tf.keras.optimizers.Adam(learning_rate=0.001), metrics=['accuracy'])"
      ],
      "metadata": {
        "colab": {
          "base_uri": "https://localhost:8080/"
        },
        "id": "-zY7ldy3WkMK",
        "outputId": "4568cf8d-a72e-48bb-af5e-d311da14f354"
      },
      "execution_count": 12,
      "outputs": [
        {
          "output_type": "stream",
          "name": "stdout",
          "text": [
            "Model: \"sequential_2\"\n",
            "_________________________________________________________________\n",
            " Layer (type)                Output Shape              Param #   \n",
            "=================================================================\n",
            " lstm (LSTM)                 (None, 28, 256)           291840    \n",
            "                                                                 \n",
            " dropout_3 (Dropout)         (None, 28, 256)           0         \n",
            "                                                                 \n",
            " lstm_1 (LSTM)               (None, 256)               525312    \n",
            "                                                                 \n",
            " dropout_4 (Dropout)         (None, 256)               0         \n",
            "                                                                 \n",
            " dense_3 (Dense)             (None, 32)                8224      \n",
            "                                                                 \n",
            " dropout_5 (Dropout)         (None, 32)                0         \n",
            "                                                                 \n",
            " dense_4 (Dense)             (None, 10)                330       \n",
            "                                                                 \n",
            "=================================================================\n",
            "Total params: 825706 (3.15 MB)\n",
            "Trainable params: 825706 (3.15 MB)\n",
            "Non-trainable params: 0 (0.00 Byte)\n",
            "_________________________________________________________________\n"
          ]
        }
      ]
    },
    {
      "cell_type": "code",
      "source": [
        "hist = model.fit(x_train, y_train, epochs=5, validation_data=(x_val, y_val))"
      ],
      "metadata": {
        "colab": {
          "base_uri": "https://localhost:8080/"
        },
        "id": "1TcEHbfbe-Ss",
        "outputId": "6c2d542f-94ff-4d1a-d2bd-42e1d5451eed"
      },
      "execution_count": 13,
      "outputs": [
        {
          "output_type": "stream",
          "name": "stdout",
          "text": [
            "Epoch 1/5\n",
            "469/469 [==============================] - 15s 20ms/step - loss: 0.8701 - accuracy: 0.7113 - val_loss: 0.2869 - val_accuracy: 0.9155\n",
            "Epoch 2/5\n",
            "469/469 [==============================] - 8s 18ms/step - loss: 0.3018 - accuracy: 0.9175 - val_loss: 0.1973 - val_accuracy: 0.9435\n",
            "Epoch 3/5\n",
            "469/469 [==============================] - 8s 17ms/step - loss: 0.1944 - accuracy: 0.9473 - val_loss: 0.1240 - val_accuracy: 0.9641\n",
            "Epoch 4/5\n",
            "469/469 [==============================] - 8s 16ms/step - loss: 0.1507 - accuracy: 0.9581 - val_loss: 0.1304 - val_accuracy: 0.9626\n",
            "Epoch 5/5\n",
            "469/469 [==============================] - 16s 34ms/step - loss: 0.1214 - accuracy: 0.9667 - val_loss: 0.1093 - val_accuracy: 0.9696\n"
          ]
        }
      ]
    },
    {
      "cell_type": "code",
      "source": [
        "# Using LSTM\n",
        "model = tf.keras.Sequential([\n",
        "    tf.keras.Input(shape=(28,28)),\n",
        "    tf.keras.layers.GRU(256, return_sequences=True),\n",
        "    tf.keras.layers.Dropout(0.2),\n",
        "    tf.keras.layers.GRU(256, return_sequences=False),\n",
        "    tf.keras.layers.Dropout(0.2),\n",
        "    tf.keras.layers.Dense(32, activation='relu'),\n",
        "    tf.keras.layers.Dropout(0.2),\n",
        "    tf.keras.layers.Dense(10, activation='softmax')\n",
        "])\n",
        "\n",
        "model.summary()\n",
        "\n",
        "model.compile(loss=tf.keras.losses.SparseCategoricalCrossentropy(from_logits=False), optimizer=tf.keras.optimizers.Adam(learning_rate=0.001), metrics=['accuracy'])\n",
        "\n",
        "hist = model.fit(x_train, y_train, epochs=5, validation_data=(x_val, y_val))"
      ],
      "metadata": {
        "id": "6cFtEclHg0-n",
        "outputId": "067419d7-1674-4308-d263-05e7f6a447fb",
        "colab": {
          "base_uri": "https://localhost:8080/"
        }
      },
      "execution_count": 14,
      "outputs": [
        {
          "output_type": "stream",
          "name": "stdout",
          "text": [
            "Model: \"sequential_3\"\n",
            "_________________________________________________________________\n",
            " Layer (type)                Output Shape              Param #   \n",
            "=================================================================\n",
            " gru (GRU)                   (None, 28, 256)           219648    \n",
            "                                                                 \n",
            " dropout_6 (Dropout)         (None, 28, 256)           0         \n",
            "                                                                 \n",
            " gru_1 (GRU)                 (None, 256)               394752    \n",
            "                                                                 \n",
            " dropout_7 (Dropout)         (None, 256)               0         \n",
            "                                                                 \n",
            " dense_5 (Dense)             (None, 32)                8224      \n",
            "                                                                 \n",
            " dropout_8 (Dropout)         (None, 32)                0         \n",
            "                                                                 \n",
            " dense_6 (Dense)             (None, 10)                330       \n",
            "                                                                 \n",
            "=================================================================\n",
            "Total params: 622954 (2.38 MB)\n",
            "Trainable params: 622954 (2.38 MB)\n",
            "Non-trainable params: 0 (0.00 Byte)\n",
            "_________________________________________________________________\n",
            "Epoch 1/5\n",
            "469/469 [==============================] - 14s 20ms/step - loss: 0.7412 - accuracy: 0.7493 - val_loss: 0.2703 - val_accuracy: 0.9131\n",
            "Epoch 2/5\n",
            "469/469 [==============================] - 8s 17ms/step - loss: 0.2191 - accuracy: 0.9385 - val_loss: 0.2115 - val_accuracy: 0.9396\n",
            "Epoch 3/5\n",
            "469/469 [==============================] - 8s 16ms/step - loss: 0.1420 - accuracy: 0.9619 - val_loss: 0.1303 - val_accuracy: 0.9640\n",
            "Epoch 4/5\n",
            "469/469 [==============================] - 8s 18ms/step - loss: 0.1060 - accuracy: 0.9697 - val_loss: 0.0977 - val_accuracy: 0.9750\n",
            "Epoch 5/5\n",
            "469/469 [==============================] - 9s 20ms/step - loss: 0.0841 - accuracy: 0.9751 - val_loss: 0.0954 - val_accuracy: 0.9752\n"
          ]
        }
      ]
    },
    {
      "cell_type": "code",
      "source": [
        "# Using LSTM\n",
        "model = tf.keras.Sequential([\n",
        "    tf.keras.Input(shape=(28,28)),\n",
        "    tf.keras.layers.SimpleRNN(256, return_sequences=True),\n",
        "    tf.keras.layers.Dropout(0.2),\n",
        "    tf.keras.layers.SimpleRNN(256, return_sequences=False),\n",
        "    tf.keras.layers.Dropout(0.2),\n",
        "    tf.keras.layers.Dense(32, activation='relu'),\n",
        "    tf.keras.layers.Dropout(0.2),\n",
        "    tf.keras.layers.Dense(10, activation='softmax')\n",
        "])\n",
        "\n",
        "model.summary()\n",
        "\n",
        "model.compile(loss=tf.keras.losses.SparseCategoricalCrossentropy(from_logits=False), optimizer=tf.keras.optimizers.Adam(learning_rate=0.001), metrics=['accuracy'])\n",
        "\n",
        "hist = model.fit(x_train, y_train, epochs=5, validation_data=(x_val, y_val))"
      ],
      "metadata": {
        "id": "_6FbWA1RhSkx",
        "outputId": "289d496c-cf6f-42bc-8fb3-5012d0f379be",
        "colab": {
          "base_uri": "https://localhost:8080/"
        }
      },
      "execution_count": 15,
      "outputs": [
        {
          "output_type": "stream",
          "name": "stdout",
          "text": [
            "Model: \"sequential_4\"\n",
            "_________________________________________________________________\n",
            " Layer (type)                Output Shape              Param #   \n",
            "=================================================================\n",
            " simple_rnn_4 (SimpleRNN)    (None, 28, 256)           72960     \n",
            "                                                                 \n",
            " dropout_9 (Dropout)         (None, 28, 256)           0         \n",
            "                                                                 \n",
            " simple_rnn_5 (SimpleRNN)    (None, 256)               131328    \n",
            "                                                                 \n",
            " dropout_10 (Dropout)        (None, 256)               0         \n",
            "                                                                 \n",
            " dense_7 (Dense)             (None, 32)                8224      \n",
            "                                                                 \n",
            " dropout_11 (Dropout)        (None, 32)                0         \n",
            "                                                                 \n",
            " dense_8 (Dense)             (None, 10)                330       \n",
            "                                                                 \n",
            "=================================================================\n",
            "Total params: 212842 (831.41 KB)\n",
            "Trainable params: 212842 (831.41 KB)\n",
            "Non-trainable params: 0 (0.00 Byte)\n",
            "_________________________________________________________________\n",
            "Epoch 1/5\n",
            "469/469 [==============================] - 35s 71ms/step - loss: 0.8180 - accuracy: 0.7464 - val_loss: 0.4416 - val_accuracy: 0.8667\n",
            "Epoch 2/5\n",
            "469/469 [==============================] - 32s 69ms/step - loss: 0.4824 - accuracy: 0.8635 - val_loss: 0.3728 - val_accuracy: 0.8968\n",
            "Epoch 3/5\n",
            "469/469 [==============================] - 35s 75ms/step - loss: 0.4187 - accuracy: 0.8829 - val_loss: 0.2873 - val_accuracy: 0.9177\n",
            "Epoch 4/5\n",
            "469/469 [==============================] - 31s 66ms/step - loss: 0.3558 - accuracy: 0.9030 - val_loss: 0.2986 - val_accuracy: 0.9205\n",
            "Epoch 5/5\n",
            "469/469 [==============================] - 32s 69ms/step - loss: 0.3369 - accuracy: 0.9067 - val_loss: 0.3089 - val_accuracy: 0.9120\n"
          ]
        }
      ]
    }
  ]
}