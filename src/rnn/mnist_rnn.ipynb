{
 "cells": [
  {
   "cell_type": "code",
   "execution_count": 1,
   "metadata": {},
   "outputs": [],
   "source": [
    "# Image classification using RNN's on the MNIST handwritten character recognition dataset"
   ]
  },
  {
   "cell_type": "code",
   "execution_count": 2,
   "metadata": {},
   "outputs": [],
   "source": [
    "import tensorflow as tf\n",
    "import matplotlib.pyplot as plt\n",
    "import numpy as np\n",
    "from sklearn.model_selection import train_test_split"
   ]
  },
  {
   "cell_type": "code",
   "execution_count": 3,
   "metadata": {},
   "outputs": [
    {
     "name": "stdout",
     "output_type": "stream",
     "text": [
      "x_train shape : (45000, 28, 28)\n",
      "y_train shape : (45000,)\n",
      "x_test shape : (10000, 28, 28)\n",
      "y_test shape : (10000,)\n",
      "\n"
     ]
    },
    {
     "data": {
      "image/png": "[encoded data removed]",
      "text/plain": [
       "<Figure size 640x480 with 1 Axes>"
      ]
     },
     "metadata": {},
     "output_type": "display_data"
    },
    {
     "name": "stdout",
     "output_type": "stream",
     "text": [
      "y_train : 1\n"
     ]
    }
   ],
   "source": [
    "# Load the data using keras.\n",
    "(x_train, y_train), (x_test, y_test) = tf.keras.datasets.mnist.load_data()\n",
    "\n",
    "# Normalizing the data.\n",
    "x_train = x_train / 255.0\n",
    "x_test = x_test / 255.0\n",
    "\n",
    "# TTS \n",
    "x_train, x_val, y_train, y_val = train_test_split(x_train, y_train, test_size=0.25)\n",
    "\n",
    "print(\"x_train shape : {}\\ny_train shape : {}\\nx_test shape : {}\\ny_test shape : {}\\n\"\n",
    "      .format(x_train.shape, y_train.shape, x_test.shape, y_test.shape))\n",
    "\n",
    "plt.imshow(x_train[0], cmap='gray')\n",
    "plt.show()\n",
    "\n",
    "print(\"y_train : {}\".format(y_train[0]))"
   ]
  },
  {
   "cell_type": "code",
   "execution_count": 4,
   "metadata": {},
   "outputs": [
    {
     "name": "stdout",
     "output_type": "stream",
     "text": [
      "x_train shape : (45000, 28, 28)\n",
      "y_train shape : (45000,)\n",
      "x_test shape : (10000, 28, 28)\n",
      "y_test shape : (10000,)\n",
      "\n"
     ]
    },
    {
     "data": {
      "image/png": "[encoded data removed]",
      "text/plain": [
       "<Figure size 640x480 with 1 Axes>"
      ]
     },
     "metadata": {},
     "output_type": "display_data"
    }
   ],
   "source": [
    "print(\"x_train shape : {}\\ny_train shape : {}\\nx_test shape : {}\\ny_test shape : {}\\n\"\n",
    "      .format(x_train.shape, y_train.shape, x_test.shape, y_test.shape))\n",
    "\n",
    "plt.imshow(x_train[0], cmap='gray')\n",
    "plt.show()"
   ]
  },
  {
   "cell_type": "code",
   "execution_count": 5,
   "metadata": {},
   "outputs": [],
   "source": [
    "# The architecture is inspired from : \n",
    "# https://github.com/aymericdamien/TensorFlow-Examples/blob/master/tensorflow_v2/notebooks/3_NeuralNetworks/recurrent_network.ipynb\n",
    "\n",
    "model = tf.keras.Sequential([\n",
    "     tf.keras.layers.Input(shape=(28*28,1)),\n",
    "     tf.keras.layers.LSTM(units=32), # units is the number of neurons for LSTM layer\n",
    "     tf.keras.layers.Dense(10, activation='softmax')\n",
    "])\n",
    "\n",
    "model.compile(optimizer=tf.keras.optimizers.SGD(), loss=tf.keras.losses.CategoricalCrossentropy(), metrics=tf.keras.metrics.Accuracy())"
   ]
  },
  {
   "cell_type": "code",
   "execution_count": 6,
   "metadata": {},
   "outputs": [
    {
     "name": "stdout",
     "output_type": "stream",
     "text": [
      "Model: \"sequential\"\n",
      "_________________________________________________________________\n",
      " Layer (type)                Output Shape              Param #   \n",
      "=================================================================\n",
      " lstm (LSTM)                 (None, 32)                4352      \n",
      "                                                                 \n",
      " dense (Dense)               (None, 10)                330       \n",
      "                                                                 \n",
      "=================================================================\n",
      "Total params: 4682 (18.29 KB)\n",
      "Trainable params: 4682 (18.29 KB)\n",
      "Non-trainable params: 0 (0.00 Byte)\n",
      "_________________________________________________________________\n"
     ]
    }
   ],
   "source": [
    "model.summary()"
   ]
  },
  {
   "cell_type": "code",
   "execution_count": 7,
   "metadata": {},
   "outputs": [
    {
     "name": "stdout",
     "output_type": "stream",
     "text": [
      "(45000, 784, 1)\n"
     ]
    }
   ],
   "source": [
    "# For training and testing, reshape the input.\n",
    "x_train_flatten = np.resize(x_train, (len(x_train), 28*28, 1))\n",
    "x_test_flatten = np.resize(x_test, (len(x_test), 28*28, 1))\n",
    "\n",
    "print(x_train_flatten.shape)"
   ]
  },
  {
   "cell_type": "code",
   "execution_count": 8,
   "metadata": {},
   "outputs": [],
   "source": [
    "# Make data categorical\n",
    "y_train = tf.keras.utils.to_categorical(y_train, 10)\n",
    "y_test = tf.keras.utils.to_categorical(y_test, 10)"
   ]
  },
  {
   "cell_type": "code",
   "execution_count": 9,
   "metadata": {},
   "outputs": [
    {
     "name": "stdout",
     "output_type": "stream",
     "text": [
      "Epoch 1/20\n",
      "1407/1407 [==============================] - 662s 466ms/step - loss: 2.3016 - accuracy: 0.0000e+00\n",
      "Epoch 2/20\n",
      "1407/1407 [==============================] - 636s 452ms/step - loss: 2.3014 - accuracy: 0.0000e+00\n",
      "Epoch 3/20\n",
      "1407/1407 [==============================] - 651s 463ms/step - loss: 2.3014 - accuracy: 0.0000e+00\n",
      "Epoch 4/20\n",
      "1407/1407 [==============================] - 653s 464ms/step - loss: 2.3013 - accuracy: 0.0000e+00\n",
      "Epoch 5/20\n",
      " 212/1407 [===>..........................] - ETA: 9:59:22 - loss: 2.3015 - accuracy: 0.0000e+00 "
     ]
    }
   ],
   "source": [
    "hist = model.fit(x_train_flatten, y_train, epochs=20)"
   ]
  }
 ],
 "metadata": {
  "kernelspec": {
   "display_name": "Python 3",
   "language": "python",
   "name": "python3"
  },
  "language_info": {
   "codemirror_mode": {
    "name": "ipython",
    "version": 3
   },
   "file_extension": ".py",
   "mimetype": "text/x-python",
   "name": "python",
   "nbconvert_exporter": "python",
   "pygments_lexer": "ipython3",
   "version": "3.11.6"
  }
 },
 "nbformat": 4,
 "nbformat_minor": 2
}
