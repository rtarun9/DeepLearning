{
  "cells": [
    {
      "cell_type": "code",
      "execution_count": 2,
      "metadata": {
        "id": "l4jI8feQMfB2"
      },
      "outputs": [],
      "source": [
        "# A simple neural network to detect handwritten digits using the Alexnet architecture.\n",
        "# The tensorflow library will be used to create the network."
      ]
    },
    {
      "cell_type": "code",
      "execution_count": 3,
      "metadata": {
        "id": "giYZX3UmMfB5"
      },
      "outputs": [],
      "source": [
        "import tensorflow as tf\n",
        "import matplotlib.pyplot as plt\n",
        "import numpy as np\n",
        "from sklearn.model_selection import train_test_split"
      ]
    },
    {
      "cell_type": "code",
      "execution_count": 4,
      "metadata": {
        "colab": {
          "base_uri": "https://localhost:8080/",
          "height": 534
        },
        "id": "6EdsatkQMfB6",
        "outputId": "2f4f0c2b-50c7-4881-f8e7-fa2143780b99"
      },
      "outputs": [
        {
          "output_type": "stream",
          "name": "stdout",
          "text": [
            "x_train shape : (45000, 28, 28)\n",
            "y_train shape : (45000,)\n",
            "x_test shape : (10000, 28, 28)\n",
            "y_test shape : (10000,)\n",
            "\n"
          ]
        },
        {
          "output_type": "display_data",
          "data": {
            "text/plain": [
              "<Figure size 640x480 with 1 Axes>"
            ],
            "image/png": "[encoded data removed]"
          },
          "metadata": {}
        },
        {
          "output_type": "stream",
          "name": "stdout",
          "text": [
            "y_train : 9\n"
          ]
        }
      ],
      "source": [
        "# Load the data using keras.\n",
        "(x_train, y_train), (x_test, y_test) = tf.keras.datasets.mnist.load_data()\n",
        "\n",
        "x_train, x_val, y_train, y_val = train_test_split(x_train, y_train, test_size=0.25)\n",
        "\n",
        "print(\"x_train shape : {}\\ny_train shape : {}\\nx_test shape : {}\\ny_test shape : {}\\n\"\n",
        "      .format(x_train.shape, y_train.shape, x_test.shape, y_test.shape))\n",
        "\n",
        "plt.imshow(x_train[0], cmap='gray')\n",
        "plt.show()\n",
        "\n",
        "print(\"y_train : {}\".format(y_train[0]))"
      ]
    },
    {
      "cell_type": "code",
      "execution_count": 5,
      "metadata": {
        "id": "QdDjX379MfB7"
      },
      "outputs": [],
      "source": [
        "target_size = (224, 224)\n",
        "x_train = x_train[:5000]\n",
        "y_train = y_train[:5000]\n",
        "\n",
        "x_train = tf.image.resize(x_train[..., tf.newaxis], (target_size[0], target_size[1]))\n",
        "x_train = tf.image.grayscale_to_rgb(x_train)\n",
        "\n",
        "x_val = x_val[:1000]\n",
        "x_val = tf.image.resize(x_val[..., tf.newaxis], (target_size[0], target_size[1]))\n",
        "x_val = tf.image.grayscale_to_rgb(x_val)\n",
        "\n",
        "x_test = x_test[:1000]\n",
        "x_test = tf.image.resize(x_test[..., tf.newaxis], (target_size[0], target_size[1]))\n",
        "x_test = tf.image.grayscale_to_rgb(x_test)\n"
      ]
    },
    {
      "cell_type": "code",
      "source": [
        "y_val = y_val[:1000]\n",
        "y_test = y_test[:1000]"
      ],
      "metadata": {
        "id": "9Bht5UXIPIM2"
      },
      "execution_count": 13,
      "outputs": []
    },
    {
      "cell_type": "code",
      "execution_count": 6,
      "metadata": {
        "colab": {
          "base_uri": "https://localhost:8080/",
          "height": 558
        },
        "id": "I75zXU-HMfB7",
        "outputId": "a26301ea-968b-43ff-d695-0d319797c859"
      },
      "outputs": [
        {
          "output_type": "stream",
          "name": "stdout",
          "text": [
            "x_train shape : (5000, 224, 224, 3)\n",
            "y_train shape : (5000,)\n",
            "x_test shape : (1000, 224, 224, 3)\n",
            "y_test shape : (10000,)\n",
            "\n"
          ]
        },
        {
          "output_type": "stream",
          "name": "stderr",
          "text": [
            "WARNING:matplotlib.image:Clipping input data to the valid range for imshow with RGB data ([0..1] for floats or [0..255] for integers).\n"
          ]
        },
        {
          "output_type": "display_data",
          "data": {
            "text/plain": [
              "<Figure size 640x480 with 1 Axes>"
            ],
            "image/png": "[encoded data removed]"
          },
          "metadata": {}
        }
      ],
      "source": [
        "print(\"x_train shape : {}\\ny_train shape : {}\\nx_test shape : {}\\ny_test shape : {}\\n\"\n",
        "      .format(x_train.shape, y_train.shape, x_test.shape, y_test.shape))\n",
        "\n",
        "plt.imshow(x_train[0], cmap='gray')\n",
        "plt.show()"
      ]
    },
    {
      "cell_type": "raw",
      "metadata": {
        "scrolled": true,
        "id": "j0dzr7UaMfB8"
      },
      "source": [
        "tf.keras.layers.Conv2D?"
      ]
    },
    {
      "cell_type": "code",
      "execution_count": 7,
      "metadata": {
        "scrolled": true,
        "id": "b1fKfi6_MfB8"
      },
      "outputs": [],
      "source": [
        "tf.keras.layers.MaxPooling2D?"
      ]
    },
    {
      "cell_type": "code",
      "execution_count": 10,
      "metadata": {
        "scrolled": true,
        "colab": {
          "base_uri": "https://localhost:8080/"
        },
        "id": "PD_hehe_MfB9",
        "outputId": "01b4938c-25ea-43e2-e8ac-d4ff0f23bc07"
      },
      "outputs": [
        {
          "output_type": "stream",
          "name": "stdout",
          "text": [
            "Model: \"sequential_2\"\n",
            "_________________________________________________________________\n",
            " Layer (type)                Output Shape              Param #   \n",
            "=================================================================\n",
            " conv2d_10 (Conv2D)          (None, 54, 54, 96)        34944     \n",
            "                                                                 \n",
            " max_pooling2d_6 (MaxPoolin  (None, 26, 26, 96)        0         \n",
            " g2D)                                                            \n",
            "                                                                 \n",
            " conv2d_11 (Conv2D)          (None, 26, 26, 256)       614656    \n",
            "                                                                 \n",
            " max_pooling2d_7 (MaxPoolin  (None, 12, 12, 256)       0         \n",
            " g2D)                                                            \n",
            "                                                                 \n",
            " conv2d_12 (Conv2D)          (None, 12, 12, 384)       885120    \n",
            "                                                                 \n",
            " conv2d_13 (Conv2D)          (None, 12, 12, 384)       1327488   \n",
            "                                                                 \n",
            " conv2d_14 (Conv2D)          (None, 12, 12, 256)       884992    \n",
            "                                                                 \n",
            " max_pooling2d_8 (MaxPoolin  (None, 5, 5, 256)         0         \n",
            " g2D)                                                            \n",
            "                                                                 \n",
            " flatten_2 (Flatten)         (None, 6400)              0         \n",
            "                                                                 \n",
            " dense_6 (Dense)             (None, 4096)              26218496  \n",
            "                                                                 \n",
            " dense_7 (Dense)             (None, 4096)              16781312  \n",
            "                                                                 \n",
            " dense_8 (Dense)             (None, 10)                40970     \n",
            "                                                                 \n",
            "=================================================================\n",
            "Total params: 46787978 (178.48 MB)\n",
            "Trainable params: 46787978 (178.48 MB)\n",
            "Non-trainable params: 0 (0.00 Byte)\n",
            "_________________________________________________________________\n"
          ]
        }
      ],
      "source": [
        "# Create the network using keras.\n",
        "# Alexnet architecture : consist of 8 layers.\n",
        "# Layer 1 > 96 filters of 11 x 11 with stride 4 Convolution\n",
        "# Layer 2 > Maxpooling layer 3 x 3 with stride 2\n",
        "# Layer 3 > 256 filters of 5x5 with padding as 2 Convolution\n",
        "# Layer 4 > Maxpooling layer 3 x 3 with stride 2\n",
        "# Layer 5 > 3 x 3 convolution of 384 filters, padding 1\n",
        "# Layer 6 > same as above\n",
        "# Layer 7 > Same as above, but with 256 filters\n",
        "# Layer 8 > Maxpooling layer 3 x 3 with stride 2\n",
        "# Layer 9 > FC 4096\n",
        "# Layer 10 > FC 4096\n",
        "# Layer 11 > Output (Fc 1000)\n",
        "\n",
        "alexnet_model = tf.keras.Sequential([\n",
        "     tf.keras.layers.Input(shape=(224,224,3)),\n",
        "     tf.keras.layers.Conv2D(96, 11, 4,  activation='relu'),\n",
        "     tf.keras.layers.MaxPooling2D(3, 2),\n",
        "     tf.keras.layers.Conv2D(256, 5, 1, padding='same', activation='relu'),\n",
        "     tf.keras.layers.MaxPooling2D(3, 2),\n",
        "     tf.keras.layers.Conv2D(384, 3, 1, padding='same',  activation='relu'),\n",
        "     tf.keras.layers.Conv2D(384, 3, 1, padding='same', activation='relu'),\n",
        "     tf.keras.layers.Conv2D(256, 3, 1, padding='same', activation='relu'),\n",
        "     tf.keras.layers.MaxPooling2D(3, 2),\n",
        "     tf.keras.layers.Flatten(),\n",
        "     tf.keras.layers.Dense(4096, activation='relu'),\n",
        "     tf.keras.layers.Dense(4096, activation='relu'),\n",
        "     tf.keras.layers.Dense(10, activation='softmax')\n",
        "])\n",
        "\n",
        "alexnet_model.summary()"
      ]
    },
    {
      "cell_type": "code",
      "execution_count": 11,
      "metadata": {
        "scrolled": true,
        "id": "rmFdrjQjMfB-"
      },
      "outputs": [],
      "source": [
        "alexnet_model.fit?"
      ]
    },
    {
      "cell_type": "code",
      "execution_count": 14,
      "metadata": {
        "colab": {
          "base_uri": "https://localhost:8080/"
        },
        "id": "-1BcxT_VMfB-",
        "outputId": "8504be96-d53c-43dc-b14f-0f7df406c01d"
      },
      "outputs": [
        {
          "output_type": "stream",
          "name": "stdout",
          "text": [
            "Epoch 1/10\n",
            "157/157 [==============================] - 11s 49ms/step - loss: 0.3911 - accuracy: 0.8850 - val_loss: 0.4374 - val_accuracy: 0.8690\n",
            "Epoch 2/10\n",
            "157/157 [==============================] - 7s 46ms/step - loss: 0.2136 - accuracy: 0.9380 - val_loss: 0.3793 - val_accuracy: 0.8780\n",
            "Epoch 3/10\n",
            "157/157 [==============================] - 8s 49ms/step - loss: 0.1970 - accuracy: 0.9410 - val_loss: 0.2013 - val_accuracy: 0.9450\n",
            "Epoch 4/10\n",
            "157/157 [==============================] - 7s 45ms/step - loss: 0.2170 - accuracy: 0.9406 - val_loss: 0.2690 - val_accuracy: 0.9240\n",
            "Epoch 5/10\n",
            "157/157 [==============================] - 7s 45ms/step - loss: 0.1161 - accuracy: 0.9648 - val_loss: 0.1647 - val_accuracy: 0.9580\n",
            "Epoch 6/10\n",
            "157/157 [==============================] - 7s 44ms/step - loss: 0.1291 - accuracy: 0.9690 - val_loss: 0.2658 - val_accuracy: 0.9360\n",
            "Epoch 7/10\n",
            "157/157 [==============================] - 7s 46ms/step - loss: 0.1620 - accuracy: 0.9576 - val_loss: 0.2379 - val_accuracy: 0.9340\n",
            "Epoch 8/10\n",
            "157/157 [==============================] - 7s 45ms/step - loss: 0.1466 - accuracy: 0.9606 - val_loss: 0.2247 - val_accuracy: 0.9320\n",
            "Epoch 9/10\n",
            "157/157 [==============================] - 8s 53ms/step - loss: 0.1147 - accuracy: 0.9664 - val_loss: 0.1591 - val_accuracy: 0.9680\n",
            "Epoch 10/10\n",
            "157/157 [==============================] - 7s 45ms/step - loss: 0.1250 - accuracy: 0.9666 - val_loss: 0.2650 - val_accuracy: 0.9330\n"
          ]
        },
        {
          "output_type": "execute_result",
          "data": {
            "text/plain": [
              "<keras.src.callbacks.History at 0x7a3fb1ed7250>"
            ]
          },
          "metadata": {},
          "execution_count": 14
        }
      ],
      "source": [
        "\n",
        "# Compile the network.\n",
        "alexnet_model.compile(optimizer='adam', loss='sparse_categorical_crossentropy', metrics=['accuracy'])\n",
        "alexnet_model.fit(x_train, y_train, epochs=10, validation_data=(x_val, y_val))"
      ]
    },
    {
      "cell_type": "raw",
      "metadata": {
        "id": "zxGJ3hhXMfB-"
      },
      "source": []
    },
    {
      "cell_type": "code",
      "execution_count": 15,
      "metadata": {
        "colab": {
          "base_uri": "https://localhost:8080/"
        },
        "id": "vzLWIVZKMfB_",
        "outputId": "b50de0c5-e1ab-4ea6-82c6-234009132311"
      },
      "outputs": [
        {
          "output_type": "stream",
          "name": "stdout",
          "text": [
            "32/32 [==============================] - 1s 21ms/step - loss: 0.2885 - accuracy: 0.9400\n",
            "Accuracy : 93.99999976158142\n",
            "Loss : 0.288472443819046\n"
          ]
        }
      ],
      "source": [
        "# Evaluation performance of network.\n",
        "test_loss, test_acc = alexnet_model.evaluate(x_test, y_test)\n",
        "print('Accuracy : {}'.format(test_acc * 100.0))\n",
        "print('Loss : {}'.format(test_loss))\n"
      ]
    }
  ],
  "metadata": {
    "kernelspec": {
      "display_name": "Python 3",
      "name": "python3"
    },
    "language_info": {
      "codemirror_mode": {
        "name": "ipython",
        "version": 3
      },
      "file_extension": ".py",
      "mimetype": "text/x-python",
      "name": "python",
      "nbconvert_exporter": "python",
      "pygments_lexer": "ipython3",
      "version": "3.11.6"
    },
    "colab": {
      "provenance": [],
      "gpuType": "T4"
    },
    "accelerator": "GPU"
  },
  "nbformat": 4,
  "nbformat_minor": 0
}