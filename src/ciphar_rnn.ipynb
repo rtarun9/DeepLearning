{
 "cells": [
  {
   "cell_type": "code",
   "execution_count": 25,
   "metadata": {},
   "outputs": [],
   "source": [
    "# Image classification using RNN's on the MNIST handwritten character recognition dataset"
   ]
  },
  {
   "cell_type": "code",
   "execution_count": 26,
   "metadata": {},
   "outputs": [],
   "source": [
    "import tensorflow as tf\n",
    "import matplotlib.pyplot as plt\n",
    "import numpy as np\n",
    "from sklearn.model_selection import train_test_split"
   ]
  },
  {
   "cell_type": "code",
   "execution_count": 27,
   "metadata": {},
   "outputs": [
    {
     "name": "stdout",
     "output_type": "stream",
     "text": [
      "x_train shape : (37500, 32, 32, 3)\n",
      "y_train shape : (37500, 1)\n",
      "x_test shape : (10000, 32, 32, 3)\n",
      "y_test shape : (10000, 1)\n",
      "\n"
     ]
    },
    {
     "data": {
      "image/png": "[encoded data removed]",
      "text/plain": [
       "<Figure size 640x480 with 1 Axes>"
      ]
     },
     "metadata": {},
     "output_type": "display_data"
    },
    {
     "name": "stdout",
     "output_type": "stream",
     "text": [
      "y_train : [2]\n"
     ]
    }
   ],
   "source": [
    "# Load the data using keras.\n",
    "(x_train, y_train), (x_test, y_test) = tf.keras.datasets.cifar10.load_data()\n",
    "\n",
    "# Normalizing the data.\n",
    "x_train = x_train / 255.0\n",
    "x_test = x_test / 255.0\n",
    "\n",
    "# TTS \n",
    "x_train, x_val, y_train, y_val = train_test_split(x_train, y_train, test_size=0.25)\n",
    "\n",
    "print(\"x_train shape : {}\\ny_train shape : {}\\nx_test shape : {}\\ny_test shape : {}\\n\"\n",
    "      .format(x_train.shape, y_train.shape, x_test.shape, y_test.shape))\n",
    "\n",
    "plt.imshow(x_train[0], cmap='gray')\n",
    "plt.show()\n",
    "\n",
    "print(\"y_train : {}\".format(y_train[0]))"
   ]
  },
  {
   "cell_type": "code",
   "execution_count": 28,
   "metadata": {},
   "outputs": [
    {
     "name": "stdout",
     "output_type": "stream",
     "text": [
      "x_train shape : (37500, 32, 32, 3)\n",
      "y_train shape : (37500, 1)\n",
      "x_test shape : (10000, 32, 32, 3)\n",
      "y_test shape : (10000, 1)\n",
      "\n"
     ]
    },
    {
     "data": {
      "image/png": "[encoded data removed]",
      "text/plain": [
       "<Figure size 640x480 with 1 Axes>"
      ]
     },
     "metadata": {},
     "output_type": "display_data"
    }
   ],
   "source": [
    "print(\"x_train shape : {}\\ny_train shape : {}\\nx_test shape : {}\\ny_test shape : {}\\n\"\n",
    "      .format(x_train.shape, y_train.shape, x_test.shape, y_test.shape))\n",
    "\n",
    "plt.imshow(x_train[0], cmap='gray')\n",
    "plt.show()"
   ]
  },
  {
   "cell_type": "code",
   "execution_count": 36,
   "metadata": {},
   "outputs": [],
   "source": [
    "# The architecture is inspired from : \n",
    "# https://github.com/aymericdamien/TensorFlow-Examples/blob/master/tensorflow_v2/notebooks/3_NeuralNetworks/recurrent_network.ipynb\n",
    "\n",
    "model = tf.keras.Sequential([\n",
    "     tf.keras.layers.Input(shape=(32*32,1)),\n",
    "     tf.keras.layers.LSTM(units=32), # units is the number of neurons for LSTM layer\n",
    "     tf.keras.layers.Dense(10, activation='softmax')\n",
    "])\n",
    "\n",
    "model.compile(optimizer=tf.keras.optimizers.SGD(), loss=tf.keras.losses.CategoricalCrossentropy(), metrics=['accuracy'])"
   ]
  },
  {
   "cell_type": "code",
   "execution_count": 30,
   "metadata": {},
   "outputs": [
    {
     "name": "stdout",
     "output_type": "stream",
     "text": [
      "Model: \"sequential_4\"\n",
      "_________________________________________________________________\n",
      " Layer (type)                Output Shape              Param #   \n",
      "=================================================================\n",
      " lstm_4 (LSTM)               (None, 32)                4352      \n",
      "                                                                 \n",
      " dense_4 (Dense)             (None, 10)                330       \n",
      "                                                                 \n",
      "=================================================================\n",
      "Total params: 4682 (18.29 KB)\n",
      "Trainable params: 4682 (18.29 KB)\n",
      "Non-trainable params: 0 (0.00 Byte)\n",
      "_________________________________________________________________\n"
     ]
    }
   ],
   "source": [
    "model.summary()"
   ]
  },
  {
   "cell_type": "code",
   "execution_count": 33,
   "metadata": {},
   "outputs": [
    {
     "name": "stdout",
     "output_type": "stream",
     "text": [
      "(37500, 1024, 1)\n"
     ]
    }
   ],
   "source": [
    "# Make data categorical\n",
    "y_train = tf.keras.utils.to_categorical(y_train, 10)\n",
    "y_test = tf.keras.utils.to_categorical(y_test, 10)\n",
    "\n",
    "# For training and testing, reshape the input.\n",
    "x_train_flatten = np.resize(x_train, (len(x_train), 32*32, 1))\n",
    "x_test_flatten = np.resize(x_test, (len(x_test), 32*32, 1))\n",
    "\n",
    "print(x_train_flatten.shape)"
   ]
  },
  {
   "cell_type": "code",
   "execution_count": 37,
   "metadata": {},
   "outputs": [
    {
     "name": "stdout",
     "output_type": "stream",
     "text": [
      "Epoch 1/20\n",
      "1172/1172 [==============================] - 765s 648ms/step - loss: 2.3036 - accuracy: 0.0988\n",
      "Epoch 2/20\n",
      "1172/1172 [==============================] - 676s 577ms/step - loss: 2.3031 - accuracy: 0.1027\n",
      "Epoch 3/20\n",
      "1066/1172 [==========================>...] - ETA: 10:52 - loss: 2.3031 - accuracy: 0.0984"
     ]
    }
   ],
   "source": [
    "hist = model.fit(x_train_flatten, y_train, epochs=20)"
   ]
  }
 ],
 "metadata": {
  "kernelspec": {
   "display_name": "Python 3",
   "language": "python",
   "name": "python3"
  },
  "language_info": {
   "codemirror_mode": {
    "name": "ipython",
    "version": 3
   },
   "file_extension": ".py",
   "mimetype": "text/x-python",
   "name": "python",
   "nbconvert_exporter": "python",
   "pygments_lexer": "ipython3",
   "version": "3.11.6"
  }
 },
 "nbformat": 4,
 "nbformat_minor": 2
}
